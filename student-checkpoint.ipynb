{
 "cells": [
  {
   "cell_type": "code",
   "execution_count": null,
   "id": "f69d0475",
   "metadata": {},
   "outputs": [],
   "source": [
    "Calculate the Student's Performance\n",
    "\n"
   ]
  },
  {
   "cell_type": "code",
   "execution_count": 2,
   "id": "445857bd",
   "metadata": {},
   "outputs": [
    {
     "name": "stdout",
     "output_type": "stream",
     "text": [
      "Enter marks of five subjects: \n",
      "Subject 1: 89\n",
      "Subject 2: 98\n",
      "Subject 3: 87\n",
      "274 \t\t 91.33333333333333\n"
     ]
    }
   ],
   "source": [
    "class StudentResult:\n",
    "    def __init__(self):\n",
    "        self.__marks = []\n",
    "        self.__total = 0\n",
    "        self.__per = 0\n",
    "\n",
    "    def studentData(self):\n",
    "        print(\"Enter marks of three subjects: \")\n",
    "        for i in range(3):\n",
    "            self.__marks.append(int(input(\"Subject \" + str(i + 1) + \": \")))\n",
    "\n",
    "    def calTotalMarks(self):\n",
    "        for x in self.__marks:\n",
    "            self.__total += x\n",
    "\n",
    "    def calPercentage(self):\n",
    "        self.__per = self.__total / 3\n",
    "    def showStudent(self):\n",
    "        self.studentData()\n",
    "        self.calTotalMarks()\n",
    "        self.calPercentage()\n",
    "        print( self.__total, \"\\t\\t\", self.__per)\n",
    "\n",
    "\n",
    "\n",
    "def main():\n",
    "    s = StudentResult()\n",
    "    s.showStudent()\n",
    "\n",
    "\n",
    "main()\n"
   ]
  },
  {
   "cell_type": "code",
   "execution_count": null,
   "id": "914084cc",
   "metadata": {},
   "outputs": [],
   "source": []
  }
 ],
 "metadata": {
  "kernelspec": {
   "display_name": "Python 3",
   "language": "python",
   "name": "python3"
  },
  "language_info": {
   "codemirror_mode": {
    "name": "ipython",
    "version": 3
   },
   "file_extension": ".py",
   "mimetype": "text/x-python",
   "name": "python",
   "nbconvert_exporter": "python",
   "pygments_lexer": "ipython3",
   "version": "3.8.8"
  }
 },
 "nbformat": 4,
 "nbformat_minor": 5
}
